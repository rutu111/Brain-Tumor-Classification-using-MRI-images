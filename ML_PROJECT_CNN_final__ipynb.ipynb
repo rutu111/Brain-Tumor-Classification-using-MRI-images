{
  "cells": [
    {
      "cell_type": "code",
      "execution_count": null,
      "metadata": {
        "id": "OyPdks8iZrpi",
        "outputId": "7db5b163-c1be-4786-f1f8-f06ea20e7821"
      },
      "outputs": [
        {
          "name": "stderr",
          "output_type": "stream",
          "text": [
            "/opt/homebrew/lib/python3.9/site-packages/tqdm/auto.py:22: TqdmWarning: IProgress not found. Please update jupyter and ipywidgets. See https://ipywidgets.readthedocs.io/en/stable/user_install.html\n",
            "  from .autonotebook import tqdm as notebook_tqdm\n"
          ]
        }
      ],
      "source": [
        "#Load libraries\n",
        "import os\n",
        "import numpy as np\n",
        "import torch\n",
        "import glob\n",
        "import torch.nn as nn\n",
        "from torchvision.transforms import transforms\n",
        "from torch.utils.data import DataLoader\n",
        "from torch.optim import Adam\n",
        "from torch.autograd import Variable\n",
        "import torchvision\n",
        "import pathlib"
      ]
    },
    {
      "cell_type": "code",
      "execution_count": null,
      "metadata": {
        "colab": {
          "base_uri": "https://localhost:8080/"
        },
        "id": "CRQzKTkQafCC",
        "outputId": "5ff9e20b-10b8-4399-9f36-8eb52c8aaf59"
      },
      "outputs": [
        {
          "name": "stdout",
          "output_type": "stream",
          "text": [
            "mkdir: cannot create directory ‘/root/.kaggle’: File exists\n",
            "Downloading brain-tumor-classification-mri.zip to /content\n",
            " 99% 86.0M/86.8M [00:00<00:00, 209MB/s]\n",
            "100% 86.8M/86.8M [00:00<00:00, 195MB/s]\n"
          ]
        }
      ],
      "source": [
        "!pip install -q kaggle\n",
        "!mkdir ~/.kaggle\n",
        "! cp /kaggle.json ~/.kaggle/\n",
        "! chmod 600 ~/.kaggle/kaggle.json\n",
        "!kaggle datasets download -d sartajbhuvaji/brain-tumor-classification-mri\n",
        "\n"
      ]
    },
    {
      "cell_type": "code",
      "execution_count": null,
      "metadata": {
        "id": "dpYwZzkvqwbm"
      },
      "outputs": [],
      "source": [
        "!unzip \"/content/brain-tumor-classification-mri.zip\" -d \"/home/MRI_images\""
      ]
    },
    {
      "cell_type": "code",
      "execution_count": null,
      "metadata": {
        "id": "B87eIQfwZrpm"
      },
      "outputs": [],
      "source": [
        "#checking for device\n",
        "device=torch.device('cuda' if torch.cuda.is_available() else 'cpu')"
      ]
    },
    {
      "cell_type": "code",
      "execution_count": null,
      "metadata": {
        "id": "zyrkSeZJZrpn"
      },
      "outputs": [],
      "source": [
        "\n"
      ]
    },
    {
      "cell_type": "code",
      "execution_count": null,
      "metadata": {
        "id": "DUYamSE_Zrpn"
      },
      "outputs": [],
      "source": [
        "#Transforms\n",
        "#pre-processing images \n",
        "\n",
        "def my_adjust_contrast():\n",
        "    def _func(img):\n",
        "        return  torchvision.transforms.functional.autocontrast(img)\n",
        "    return _func \n",
        "\n",
        "def my_adjust_Sharpness():\n",
        "    def _func(img):\n",
        "        return  torchvision.transforms.functional.adjust_sharpness(img, 1) #increases sharpness by factor of 2\n",
        "    return _func \n",
        "\n",
        "transformer=transforms.Compose([\n",
        "    transforms.Resize((200,200)), \n",
        "    transforms.RandomHorizontalFlip(p=0.5),\n",
        "    transforms.RandomVerticalFlip(p=0.5),\n",
        "    transforms.GaussianBlur(kernel_size=(5, 9), sigma=(0.1, 5)),\n",
        "    transforms.RandomAdjustSharpness(sharpness_factor=2, p=0.5),\n",
        "    transforms.ToTensor(),\n",
        "    transforms.Normalize(           \n",
        "        mean=[0.485, 0.456, 0.406], \n",
        "        std=[0.229, 0.224, 0.225]\n",
        "        ),\n",
        "    #my_adjust_Sharpness(),\n",
        "    #my_adjust_contrast()\n",
        "])\n"
      ]
    },
    {
      "cell_type": "code",
      "execution_count": null,
      "metadata": {
        "id": "otYEtkXTr_IJ"
      },
      "outputs": [],
      "source": [
        ""
      ]
    },
    {
      "cell_type": "code",
      "execution_count": null,
      "metadata": {
        "id": "CXEshPzBZrpo"
      },
      "outputs": [],
      "source": [
        "#Dataloader\n",
        "#\"/Users/akshat/Desktop/ML/archive/Training/\"\n",
        "#Path for training and testing directory\n",
        "train_path=\"/Users/akshat/Documents/archive(2)/Training/\"\n",
        "test_path=\"/Users/akshat/Documents/archive(2)/Testing/\"\n",
        "\n",
        "#loading the dataset using batch size 64 for train and 52 for test\n",
        "\n",
        "train_loader=DataLoader(\n",
        "    torchvision.datasets.ImageFolder(train_path,transform=transformer),\n",
        "    batch_size=64, shuffle=True\n",
        ")\n",
        "test_loader=DataLoader(\n",
        "    torchvision.datasets.ImageFolder(test_path,transform=transformer),\n",
        "    batch_size=32, shuffle=True\n",
        ")\n",
        "\n"
      ]
    },
    {
      "cell_type": "code",
      "execution_count": null,
      "metadata": {
        "id": "vxPXRQ6QZrpp"
      },
      "outputs": [],
      "source": [
        "classes = ['meningioma_tumor', 'no_tumor', 'pituitary_tumor']"
      ]
    },
    {
      "cell_type": "code",
      "execution_count": null,
      "metadata": {
        "colab": {
          "base_uri": "https://localhost:8080/"
        },
        "id": "U9fCRck3Zrpq",
        "outputId": "c02a3082-1988-4608-c9af-8e094e163ced"
      },
      "outputs": [
        {
          "name": "stdout",
          "output_type": "stream",
          "text": [
            "['meningioma_tumor', 'no_tumor', 'pituitary_tumor']\n"
          ]
        }
      ],
      "source": [
        "print(classes)"
      ]
    },
    {
      "cell_type": "code",
      "execution_count": null,
      "metadata": {
        "id": "RSMzx-HBZrpr"
      },
      "outputs": [],
      "source": [
        "#CNN Network\n",
        "\n",
        "class ConvNet(nn.Module):\n",
        "    def __init__(self,num_classes=6):\n",
        "        super(ConvNet,self).__init__()\n",
        "        \n",
        "        #Output size after convolution filter\n",
        "        #((w-f+2P)/s) +1\n",
        "        \n",
        "        \n",
        "        self.conv1=nn.Conv2d(in_channels=3,out_channels=32,kernel_size=3,stride=1,padding=1) #convolutional layer 1\n",
        "        #Shape= (32,200,200)\n",
        "        self.bn1=nn.BatchNorm2d(num_features=32)\n",
        "        #Shape= (32,200,200)\n",
        "        self.relu1=nn.ReLU()\n",
        "        #Shape= (32,200,200)\n",
        "        \n",
        "        self.pool=nn.MaxPool2d(kernel_size=2)\n",
        "        #Reduce the image size be factor 2\n",
        "        #Shape= (32,100,100)\n",
        "        \n",
        "        \n",
        "        self.conv2=nn.Conv2d(in_channels=32,out_channels=64,kernel_size=3,stride=1,padding=1) #convolutional layer 2\n",
        "        #Shape= (64,100,100)\n",
        "        self.relu2=nn.ReLU()\n",
        "        #Shape= (64,100,100)\n",
        "        \n",
        "        \n",
        "        \n",
        "        self.conv3=nn.Conv2d(in_channels=64,out_channels=128,kernel_size=3,stride=1,padding=1) #convolutional layer 3\n",
        "        #Shape= (128,100,100)\n",
        "        self.bn3=nn.BatchNorm2d(num_features=128) \n",
        "        #Shape= (128,100,100)\n",
        "        self.relu3=nn.ReLU() \n",
        "        #Shape= (128,100,100)\n",
        "        \n",
        "        self.conv4=nn.Conv2d(in_channels=128,out_channels=256,kernel_size=3,stride=1,padding=1) #convolutional layer 4\n",
        "        #Shape= (256,100,100)\n",
        "        self.relu4=nn.ReLU()\n",
        "        #Shape= (256,100,100)\n",
        "        \n",
        "        #after 3 pooling, size would be reudced to (256,25,25)\n",
        "        self.fc=nn.Linear(in_features=25 * 25 * 256,out_features= 1024) #fully connected layer 1\n",
        "        self.fc2=nn.Linear(in_features=1024,out_features=64) ##fully connected layer 1\n",
        "        self.fc3=nn.Linear(in_features=64,out_features=num_classes) ##fully connected layer 1\n",
        "        #Feed forwad function\n",
        "        \n",
        "    #formwatd propogration\n",
        "    def forward(self,input):\n",
        "        output=self.conv1(input)\n",
        "        output=self.bn1(output)\n",
        "        output=self.relu1(output)\n",
        "            \n",
        "        output=self.pool(output)\n",
        "            \n",
        "        output=self.conv2(output)\n",
        "        output=self.relu2(output)\n",
        "\n",
        "        output=self.pool(output)\n",
        "            \n",
        "        output=self.conv3(output)\n",
        "        output=self.bn3(output)\n",
        "        output=self.relu3(output)\n",
        "        \n",
        "        output=self.pool(output) \n",
        "        \n",
        "        output=self.conv4(output)\n",
        "        output=self.relu4(output)\n",
        "            \n",
        "            \n",
        "            \n",
        "        output=output.view(-1,25*25*256) #flattening output\n",
        "            \n",
        "            \n",
        "        #output=self.fc(output)\n",
        "        output = self.relu1(self.fc(output)) \n",
        "        output = self.relu1(self.fc2(output))    \n",
        "        output = self.fc3(output) \n",
        "            \n",
        "        return output\n",
        "            \n",
        "        \n"
      ]
    },
    {
      "cell_type": "code",
      "execution_count": null,
      "metadata": {
        "id": "dgqjcjZFZrpu"
      },
      "outputs": [],
      "source": [
        "import torch, gc\n",
        "\n",
        "gc.collect()\n",
        "torch.cuda.empty_cache()"
      ]
    },
    {
      "cell_type": "code",
      "execution_count": null,
      "metadata": {
        "id": "jpNYNImJjVqD"
      },
      "outputs": [],
      "source": [
        "model=ConvNet(num_classes=4).to(device)"
      ]
    },
    {
      "cell_type": "code",
      "execution_count": null,
      "metadata": {
        "id": "VbRL3JxxZrpw"
      },
      "outputs": [],
      "source": [
        "#Adam Optmizer and cross entropy loss function\n",
        "optimizer=Adam(model.parameters(),lr=0.001,weight_decay=0.0001)\n",
        "loss_function=nn.CrossEntropyLoss()"
      ]
    },
    {
      "cell_type": "code",
      "execution_count": null,
      "metadata": {
        "id": "IH52zYwzZrpw"
      },
      "outputs": [],
      "source": [
        "num_epochs=15 #number of epochs the model is run on"
      ]
    },
    {
      "cell_type": "code",
      "execution_count": null,
      "metadata": {
        "id": "P2AY8Fz-Zrpx"
      },
      "outputs": [],
      "source": [
        "#calculating the size of training and testing images\n",
        "train_count=len(glob.glob(train_path+'/**/*.jpg'))\n",
        "test_count=len(glob.glob(test_path+'/**/*.jpg'))"
      ]
    },
    {
      "cell_type": "code",
      "execution_count": null,
      "metadata": {
        "colab": {
          "base_uri": "https://localhost:8080/"
        },
        "id": "Le-PUE1BZrpz",
        "outputId": "156ac9b2-1206-4836-eec6-1b2f86518694"
      },
      "outputs": [
        {
          "name": "stdout",
          "output_type": "stream",
          "text": [
            "2044 294\n"
          ]
        }
      ],
      "source": [
        "print(train_count,test_count)"
      ]
    },
    {
      "cell_type": "code",
      "execution_count": null,
      "metadata": {
        "id": "AA7eaRHFc0oL"
      },
      "outputs": [],
      "source": [
        "import torch\n",
        "torch.cuda.empty_cache()"
      ]
    },
    {
      "cell_type": "code",
      "execution_count": null,
      "metadata": {
        "colab": {
          "base_uri": "https://localhost:8080/"
        },
        "id": "uc8fPuKET-rN",
        "outputId": "833bb593-96d2-46c5-aa57-a1993c3145a5"
      },
      "outputs": [
        {
          "name": "stdout",
          "output_type": "stream",
          "text": [
            "Epoch: 0 Train Loss: tensor(1.9023) Train Accuracy: 48.82583170254403 Test Accuracy: 39.1156462585034\n",
            "Accuracy of meningioma_tumor: 4.3478260869565215 %\n",
            "Accuracy of no_tumor: 65.71428571428571 %\n",
            "Accuracy of pituitary_tumor: 55.4054054054054 %\n",
            "Epoch: 1 Train Loss: tensor(0.7206) Train Accuracy: 72.65166340508806 Test Accuracy: 45.57823129251701\n",
            "Accuracy of meningioma_tumor: 46.08695652173913 %\n",
            "Accuracy of no_tumor: 39.04761904761905 %\n",
            "Accuracy of pituitary_tumor: 54.054054054054056 %\n",
            "Epoch: 2 Train Loss: tensor(0.5652) Train Accuracy: 76.85909980430529 Test Accuracy: 46.93877551020408\n",
            "Accuracy of meningioma_tumor: 22.608695652173914 %\n",
            "Accuracy of no_tumor: 72.38095238095238 %\n",
            "Accuracy of pituitary_tumor: 48.648648648648646 %\n",
            "Epoch: 3 Train Loss: tensor(0.5184) Train Accuracy: 80.72407045009784 Test Accuracy: 55.78231292517007\n",
            "Accuracy of meningioma_tumor: 59.130434782608695 %\n",
            "Accuracy of no_tumor: 66.66666666666667 %\n",
            "Accuracy of pituitary_tumor: 35.13513513513514 %\n",
            "Epoch: 4 Train Loss: tensor(0.4120) Train Accuracy: 85.0293542074364 Test Accuracy: 63.945578231292515\n",
            "Accuracy of meningioma_tumor: 66.95652173913044 %\n",
            "Accuracy of no_tumor: 71.42857142857143 %\n",
            "Accuracy of pituitary_tumor: 48.648648648648646 %\n",
            "Epoch: 5 Train Loss: tensor(0.3825) Train Accuracy: 85.66536203522504 Test Accuracy: 63.605442176870746\n",
            "Accuracy of meningioma_tumor: 71.30434782608695 %\n",
            "Accuracy of no_tumor: 52.38095238095238 %\n",
            "Accuracy of pituitary_tumor: 67.56756756756756 %\n",
            "Epoch: 6 Train Loss: tensor(0.3149) Train Accuracy: 87.72015655577299 Test Accuracy: 68.70748299319727\n",
            "Accuracy of meningioma_tumor: 61.73913043478261 %\n",
            "Accuracy of no_tumor: 87.61904761904762 %\n",
            "Accuracy of pituitary_tumor: 52.7027027027027 %\n",
            "Epoch: 7 Train Loss: tensor(0.3030) Train Accuracy: 88.30724070450098 Test Accuracy: 69.72789115646259\n",
            "Accuracy of meningioma_tumor: 75.65217391304348 %\n",
            "Accuracy of no_tumor: 91.42857142857143 %\n",
            "Accuracy of pituitary_tumor: 29.72972972972973 %\n",
            "Epoch: 8 Train Loss: tensor(0.2375) Train Accuracy: 90.90019569471625 Test Accuracy: 74.82993197278911\n",
            "Accuracy of meningioma_tumor: 80.8695652173913 %\n",
            "Accuracy of no_tumor: 87.61904761904762 %\n",
            "Accuracy of pituitary_tumor: 47.2972972972973 %\n",
            "Epoch: 9 Train Loss: tensor(0.1994) Train Accuracy: 92.71037181996086 Test Accuracy: 77.89115646258503\n",
            "Accuracy of meningioma_tumor: 90.43478260869566 %\n",
            "Accuracy of no_tumor: 86.66666666666667 %\n",
            "Accuracy of pituitary_tumor: 45.945945945945944 %\n",
            "Epoch: 10 Train Loss: tensor(0.2001) Train Accuracy: 92.31898238747554 Test Accuracy: 72.78911564625851\n",
            "Accuracy of meningioma_tumor: 65.21739130434783 %\n",
            "Accuracy of no_tumor: 97.14285714285714 %\n",
            "Accuracy of pituitary_tumor: 50.0 %\n",
            "Epoch: 11 Train Loss: tensor(0.1517) Train Accuracy: 94.03131115459882 Test Accuracy: 75.17006802721089\n",
            "Accuracy of meningioma_tumor: 88.69565217391305 %\n",
            "Accuracy of no_tumor: 89.52380952380952 %\n",
            "Accuracy of pituitary_tumor: 33.78378378378378 %\n",
            "Epoch: 12 Train Loss: tensor(0.1486) Train Accuracy: 94.42270058708415 Test Accuracy: 80.61224489795919\n",
            "Accuracy of meningioma_tumor: 93.04347826086956 %\n",
            "Accuracy of no_tumor: 86.66666666666667 %\n",
            "Accuracy of pituitary_tumor: 52.7027027027027 %\n",
            "Epoch: 13 Train Loss: tensor(0.1201) Train Accuracy: 95.84148727984345 Test Accuracy: 79.93197278911565\n",
            "Accuracy of meningioma_tumor: 97.3913043478261 %\n",
            "Accuracy of no_tumor: 85.71428571428571 %\n",
            "Accuracy of pituitary_tumor: 44.5945945945946 %\n",
            "Epoch: 14 Train Loss: tensor(0.1223) Train Accuracy: 95.84148727984345 Test Accuracy: 82.31292517006803\n",
            "Accuracy of meningioma_tumor: 93.04347826086956 %\n",
            "Accuracy of no_tumor: 95.23809523809524 %\n",
            "Accuracy of pituitary_tumor: 47.2972972972973 %\n"
          ]
        }
      ],
      "source": [
        "best_accuracy=0.0\n",
        "loss_train = []\n",
        "train_acc = []\n",
        "test_acc = []\n",
        "\n",
        "#training the model\n",
        "for epoch in range(num_epochs):\n",
        "    \n",
        "    model.train()\n",
        "    train_accuracy=0.0\n",
        "    train_loss=0.0\n",
        "    \n",
        "    for i, (images,labels) in enumerate(train_loader):\n",
        "        if torch.cuda.is_available():\n",
        "            images=Variable(images.cuda())\n",
        "            labels=Variable(labels.cuda())\n",
        "            \n",
        "        optimizer.zero_grad()\n",
        "        \n",
        "        outputs=model(images)\n",
        "        loss=loss_function(outputs,labels)\n",
        "        loss.backward()\n",
        "        optimizer.step()\n",
        "        \n",
        "        \n",
        "        train_loss+= loss.cpu().data*images.size(0)\n",
        "        _,prediction=torch.max(outputs.data,1)\n",
        "        \n",
        "        train_accuracy+=int(torch.sum(prediction==labels.data))\n",
        "        \n",
        "    train_accuracy=100 * train_accuracy/train_count\n",
        "    train_loss=train_loss/train_count\n",
        "    loss_train.append(train_loss)\n",
        "    train_acc.append(train_accuracy)\n",
        "    \n",
        "    \n",
        "    # testing the model\n",
        "    model.eval()\n",
        "    \n",
        "    n_correct = 0\n",
        "    n_samples = 0\n",
        "    n_class_correct = [0 for i in range(10)]\n",
        "    n_class_samples = [0 for i in range(10)]\n",
        "    for images, labels in test_loader:\n",
        "        images = images.to(device)\n",
        "        labels = labels.to(device)\n",
        "        outputs = model(images)\n",
        "            # max returns (value ,index)\n",
        "        _, predicted = torch.max(outputs, 1)\n",
        "        n_samples += labels.size(0)\n",
        "        n_correct += (predicted == labels).sum().item()\n",
        "            \n",
        "        for i in range(len(labels)):\n",
        "            label = labels[i]\n",
        "            pred = predicted[i]\n",
        "            if (label == pred):\n",
        "                n_class_correct[label] += 1\n",
        "            n_class_samples[label] += 1\n",
        "\n",
        "    test_accuracy = 100.0 * n_correct / n_samples\n",
        "    test_acc.append(test_accuracy)\n",
        "    print('Epoch: '+str(epoch)+' Train Loss: '+str(train_loss)+' Train Accuracy: '+str(train_accuracy)+' Test Accuracy: '+str(test_accuracy))\n",
        "\n",
        "\n",
        "    for i in range(3):\n",
        "        acc = 100.0 * n_class_correct[i] / n_class_samples[i]\n",
        "        print(f'Accuracy of {classes[i]}: {acc} %')\n",
        "    "
      ]
    },
    {
      "cell_type": "code",
      "execution_count": null,
      "metadata": {
        "id": "3fx2uA1cCJqn"
      },
      "outputs": [],
      "source": [
        "#graphs\n",
        "import numpy as np\n",
        "import matplotlib.pyplot as plt\n",
        "\n",
        "epochs = range(1,16)\n",
        "plt.plot(epochs, loss_train, 'g')\n",
        "plt.title('Training loss')\n",
        "plt.xlabel('Epochs')\n",
        "plt.ylabel('Loss')\n",
        "plt.savefig('loss.png')\n",
        "plt.show()\n",
        "\n",
        "plt.plot(epochs, train_acc, 'g', label='Training accuracy')\n",
        "plt.plot(epochs, test_acc, 'b', label='Test accuracy')\n",
        "plt.title('Training and test accuracy')\n",
        "plt.xlabel('Epochs')\n",
        "plt.ylabel('Accuracy in %')\n",
        "plt.legend()\n",
        "plt.savefig('accuracy.png')\n",
        "plt.show()"
      ]
    }
  ],
  "metadata": {
    "accelerator": "GPU",
    "colab": {
      "collapsed_sections": [],
      "name": "ML_PROJECT_CNN_final._ipynb",
      "provenance": []
    },
    "kernelspec": {
      "display_name": "Python 3 (ipykernel)",
      "language": "python",
      "name": "python3"
    },
    "language_info": {
      "codemirror_mode": {
        "name": "ipython",
        "version": 3
      },
      "file_extension": ".py",
      "mimetype": "text/x-python",
      "name": "python",
      "nbconvert_exporter": "python",
      "pygments_lexer": "ipython3",
      "version": "3.9.12"
    }
  },
  "nbformat": 4,
  "nbformat_minor": 0
}